{
 "cells": [
  {
   "cell_type": "code",
   "execution_count": null,
   "metadata": {},
   "outputs": [],
   "source": [
    "import numpy as np\n",
    "import pandas as pd\n",
    "import chart_studio.plotly as pl\n",
    "import plotly.offline as po\n",
    "import cufflinks as cf"
   ]
  },
  {
   "cell_type": "code",
   "execution_count": null,
   "metadata": {},
   "outputs": [],
   "source": [
    "po.init_notebook_mode(connected=True)\n",
    "cf.go_offline()"
   ]
  },
  {
   "cell_type": "code",
   "execution_count": null,
   "metadata": {},
   "outputs": [],
   "source": [
    "def controlInputInt(msg, err_msg='Input error!'):\n",
    "    while True:\n",
    "        try:\n",
    "            x = int(input(msg))\n",
    "            break\n",
    "        except ValueError:\n",
    "            print(err_msg)\n",
    "    return x"
   ]
  },
  {
   "cell_type": "code",
   "execution_count": null,
   "metadata": {},
   "outputs": [],
   "source": [
    "def createDataFrame(choice):\n",
    "    nb_rows = controlInputInt('Number of lines: ', 'Select a correct number!')\n",
    "    nb_cols = controlInputInt('Number of columns: ', 'Select a correct number!')\n",
    "\n",
    "    col = []\n",
    "    for i in range(nb_cols):\n",
    "        print('Select name for the', i+1, 'column: ')\n",
    "        col.append(input())\n",
    "\n",
    "\n",
    "    if choice == 1:\n",
    "        data = np.random.rand(nb_rows, nb_cols)\n",
    "        df = pd.DataFrame(data, columns=col)\n",
    "\n",
    "    else:\n",
    "        data = []\n",
    "        for i in range(nb_rows):\n",
    "            data.append([0] * nb_cols)\n",
    "\n",
    "        for i in range(nb_rows):\n",
    "            for j in range(nb_cols):\n",
    "                msg = 'Enter the values for ' + str(i+1) + 'th row ' + str(j+1) + 'th column: '\n",
    "                data[i][j] = controlInputInt(msg)\n",
    "\n",
    "        df = pd.DataFrame(data, columns = col)\n",
    "    \n",
    "    return df"
   ]
  },
  {
   "cell_type": "code",
   "execution_count": null,
   "metadata": {},
   "outputs": [],
   "source": [
    "def saveDataFrame(df):\n",
    "    fileName = input('File name to save: ')\n",
    "    # saving the dataframe\n",
    "    df.to_csv(fileName, index=False)"
   ]
  },
  {
   "cell_type": "code",
   "execution_count": null,
   "metadata": {},
   "outputs": [],
   "source": [
    "def loadDataFrame():\n",
    "    file = input('Enter the file name')\n",
    "    \n",
    "    if file.lower().endswith('.csv'):\n",
    "        x = pd.read_csv(file)\n",
    "    else:\n",
    "        print('File error!')\n",
    "    \n",
    "    df = pd.DataFrame(x)\n",
    "    \n",
    "    return df"
   ]
  },
  {
   "cell_type": "code",
   "execution_count": null,
   "metadata": {},
   "outputs": [],
   "source": [
    "def getDataFrame(df):\n",
    "    \n",
    "    while True:\n",
    "        print('Select the type of data you need to plot')\n",
    "        print('1. Random data')\n",
    "        print('2. Customise dataframe')\n",
    "        print('3. Load csv file')\n",
    "        print('4. Save date in csv file')\n",
    "        print('0. Quit')\n",
    "\n",
    "        choice = controlInputInt('Your choice: ', 'Select a correct option!')\n",
    "\n",
    "        if choice == 1 or choice == 2:\n",
    "            df = createDataFrame(choice)\n",
    "            break\n",
    "\n",
    "        elif choice == 3:\n",
    "            df = loadDataFrame()\n",
    "            break\n",
    "\n",
    "        elif choice == 4:\n",
    "            if df is None:\n",
    "                print('Not data loaded.')\n",
    "                continue\n",
    "            saveDataFrame(df)\n",
    "            \n",
    "        elif choice == 0:\n",
    "            sys.exit('Application successfully terminated')\n",
    "\n",
    "    return df"
   ]
  },
  {
   "cell_type": "code",
   "execution_count": null,
   "metadata": {},
   "outputs": [],
   "source": [
    "def plotter(df, selection, plot):\n",
    "       \n",
    "    if plot == 1:\n",
    "        finalPlot = df[selection].iplot(kind='scatter')\n",
    "    elif plot == 2:\n",
    "        finalPlot = df[selection].iplot(kind='scatter', mode='markers', symbol=\"x\", colorscale='paired')\n",
    "    elif plot == 3:\n",
    "        finalPlot = df[selection].iplot(kind='bar')\n",
    "    elif plot == 4:\n",
    "        finalPlot = df[selection].iplot(kind='hist')\n",
    "    elif plot == 5:\n",
    "        finalPlot = df[selection].iplot(kind='box')\n",
    "    elif plot == 6:\n",
    "        finalPlot = df[selection].iplot(kind='surface')\n",
    "    \n",
    "    return finalPlot"
   ]
  },
  {
   "cell_type": "code",
   "execution_count": null,
   "metadata": {},
   "outputs": [],
   "source": [
    "def plotStyle(df, selection):\n",
    "    while True:\n",
    "        print('Select the type of plot')\n",
    "        print('1. Line plot')\n",
    "        print('2. Scatter plot')\n",
    "        print('3. Bar plot')\n",
    "        print('4. Histogram')\n",
    "        print('5. Box plot')\n",
    "        if len(selection) > 1:\n",
    "            print('6. Surface plot')\n",
    "        print('9. Back to column selection')\n",
    "        print('0. Quit')\n",
    "\n",
    "        choice = controlInputInt('Your choice: ', 'Select a correct option!')\n",
    "\n",
    "        if len(selection) > 1 and choice >= 1 and choice <= 6:\n",
    "            output = plotter(df, selection, choice)\n",
    "        elif len(selection) == 1 and choice >= 1 and choice <= 5:\n",
    "            output = plotter(df, selection, choice)\n",
    "        elif choice == 9:\n",
    "            plotOption(df)\n",
    "        elif choice == 0:\n",
    "            sys.exit('Application successfully terminated')"
   ]
  },
  {
   "cell_type": "code",
   "execution_count": null,
   "metadata": {},
   "outputs": [],
   "source": [
    "def plotOption(df):\n",
    "\n",
    "    selection = []\n",
    "    \n",
    "    while True:\n",
    "        print('Select the index column you want to plot:')\n",
    "        for i, col_name in enumerate(df.columns):\n",
    "            if col_name in selection:\n",
    "                check = 'X'\n",
    "            else:\n",
    "                check = ' '\n",
    "            print('[' + check + '] ' + str(i+1) + '. ' + col_name)\n",
    "        print('-1. All columns')\n",
    "        print('-2. Back to data selection')\n",
    "        print(' 0. Stop')\n",
    "\n",
    "        numb_col = controlInputInt('Your choice: ', 'Select a correct option!')\n",
    "\n",
    "        if numb_col > 0 and numb_col <= len(df.columns) and not df.columns[numb_col-1] in selection :\n",
    "            selection.append(df.columns[numb_col-1])\n",
    "            if len(selection) == len(df.columns):\n",
    "                break\n",
    "        elif numb_col == 0 and len(selection) == 0:\n",
    "            print('Select at least one column')\n",
    "        elif numb_col == 0 and len(selection) > 0:\n",
    "            break\n",
    "        elif numb_col == -1:\n",
    "            selection = []\n",
    "            for i, col_name in enumerate(df.columns):\n",
    "                selection.append(col_name)\n",
    "            break\n",
    "        elif numb_col == -2:\n",
    "            main(df)\n",
    "    plotStyle(df, selection)"
   ]
  },
  {
   "cell_type": "code",
   "execution_count": null,
   "metadata": {},
   "outputs": [],
   "source": [
    "def main(df = None):\n",
    "    df = getDataFrame(df)\n",
    "    plotOption(df)"
   ]
  },
  {
   "cell_type": "code",
   "execution_count": null,
   "metadata": {
    "scrolled": true
   },
   "outputs": [],
   "source": [
    "main()"
   ]
  }
 ],
 "metadata": {
  "kernelspec": {
   "display_name": "Python 3",
   "language": "python",
   "name": "python3"
  },
  "language_info": {
   "codemirror_mode": {
    "name": "ipython",
    "version": 3
   },
   "file_extension": ".py",
   "mimetype": "text/x-python",
   "name": "python",
   "nbconvert_exporter": "python",
   "pygments_lexer": "ipython3",
   "version": "3.6.9"
  }
 },
 "nbformat": 4,
 "nbformat_minor": 4
}
